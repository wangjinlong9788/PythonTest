{
 "cells": [
  {
   "cell_type": "code",
   "execution_count": 1,
   "metadata": {},
   "outputs": [
    {
     "ename": "SyntaxError",
     "evalue": "invalid syntax (<ipython-input-1-575021eb748e>, line 10)",
     "output_type": "error",
     "traceback": [
      "\u001b[1;36m  File \u001b[1;32m\"<ipython-input-1-575021eb748e>\"\u001b[1;36m, line \u001b[1;32m10\u001b[0m\n\u001b[1;33m    raise IndexError,'pop from empty stack'\u001b[0m\n\u001b[1;37m                    ^\u001b[0m\n\u001b[1;31mSyntaxError\u001b[0m\u001b[1;31m:\u001b[0m invalid syntax\n"
     ]
    }
   ],
   "source": [
    "class Stack(object):\n",
    "    def __init__(self):\n",
    "        self.stack=[]\n",
    "    def isEmpty(self):\n",
    "        return self.stack==[]\n",
    "    def push(self,item):\n",
    "        self.stack.append(item)\n",
    "    def pop(self):\n",
    "        if self.isEmpty():\n",
    "            raise IndexError,'pop from empty stack'\n",
    "        return self.stack.pop()\n",
    "    def peek(self):\n",
    "        return self.stack[-1]\n",
    "    def size(self):\n",
    "        return len(self.stack)\n",
    "\n",
    "def match(i,j):\n",
    "    opens='([{'\n",
    "    closes=')]}'\n",
    "    return opens.index(i)==closes.index(j)\n",
    "\n",
    "\n",
    "def syntaxChecker(string):\n",
    "    stack=Stack()\n",
    "    balanced=True\n",
    "    for i in string:\n",
    "        if i in '([{':\n",
    "            stack.push(i)\n",
    "        elif i in ')]}':\n",
    "            if stack.isEmpty():\n",
    "                balanced=False\n",
    "                break\n",
    "            else:\n",
    "                j=stack.pop()\n",
    "                if not match(j,i):\n",
    "                    balanced=False\n",
    "                    break\n",
    "    if not stack.isEmpty():\n",
    "        balanced=False\n",
    "    return balanced"
   ]
  },
  {
   "cell_type": "code",
   "execution_count": 2,
   "metadata": {},
   "outputs": [
    {
     "ename": "SyntaxError",
     "evalue": "invalid syntax (<ipython-input-2-38062d464954>, line 14)",
     "output_type": "error",
     "traceback": [
      "\u001b[1;36m  File \u001b[1;32m\"<ipython-input-2-38062d464954>\"\u001b[1;36m, line \u001b[1;32m14\u001b[0m\n\u001b[1;33m    raise IndexError,'queue is empty'\u001b[0m\n\u001b[1;37m                    ^\u001b[0m\n\u001b[1;31mSyntaxError\u001b[0m\u001b[1;31m:\u001b[0m invalid syntax\n"
     ]
    }
   ],
   "source": [
    "class Queue(object):\n",
    "    def __init__(self):\n",
    "        self.queue=[]\n",
    "    def isEmpty(self):\n",
    "        return self.queue==[]\n",
    "    def enqueue(self,x):\n",
    "        self.queue.append(x)\n",
    "    def dequeue(self):\n",
    "        if self.queue:\n",
    "            a=self.queue[0]\n",
    "            self.queue.remove(a)\n",
    "            return a\n",
    "        else:\n",
    "            raise IndexError,'queue is empty'\n",
    "    def size(self):\n",
    "        return len(self.queue)"
   ]
  },
  {
   "cell_type": "code",
   "execution_count": null,
   "metadata": {},
   "outputs": [],
   "source": []
  }
 ],
 "metadata": {
  "kernelspec": {
   "display_name": "Python 3",
   "language": "python",
   "name": "python3"
  },
  "language_info": {
   "codemirror_mode": {
    "name": "ipython",
    "version": 3
   },
   "file_extension": ".py",
   "mimetype": "text/x-python",
   "name": "python",
   "nbconvert_exporter": "python",
   "pygments_lexer": "ipython3",
   "version": "3.6.5"
  }
 },
 "nbformat": 4,
 "nbformat_minor": 2
}
