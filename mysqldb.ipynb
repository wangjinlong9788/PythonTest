{
 "cells": [
  {
   "cell_type": "code",
   "execution_count": 14,
   "metadata": {
    "scrolled": true
   },
   "outputs": [
    {
     "name": "stdout",
     "output_type": "stream",
     "text": [
      "Database version : 5.7.22 \n"
     ]
    }
   ],
   "source": [
    "\n",
    "# -*- coding: UTF-8 -*-\n",
    "\n",
    "import MySQLdb\n",
    "\n",
    "# 打开数据库连接\n",
    "\n",
    "db = MySQLdb.connect(\"localhost\", \"root\", \"\", \"TESTDB\", charset='utf8' )\n",
    "#set password for 用户名@localhost = password('新密码');  \n",
    "#set password for root@localhost = password('123');\n",
    "# 使用cursor()方法获取操作游标 \n",
    "cursor = db.cursor()\n",
    "\n",
    "# 使用execute方法执行SQL语句\n",
    "cursor.execute(\"SELECT VERSION()\")\n",
    "\n",
    "# 使用 fetchone() 方法获取一条数据\n",
    "data = cursor.fetchone()\n",
    "\n",
    "print(\"Database version : %s \" % data)\n",
    "\n",
    "# 关闭数据库连接\n",
    "db.close()"
   ]
  },
  {
   "cell_type": "code",
   "execution_count": 16,
   "metadata": {},
   "outputs": [],
   "source": [
    "import MySQLdb\n",
    "\n",
    "# 打开数据库连接\n",
    "\n",
    "db = MySQLdb.connect(\"localhost\", \"root\", \"\", \"TESTDB\", charset='utf8' )\n",
    "#set password for 用户名@localhost = password('新密码');  \n",
    "#set password for root@localhost = password('123');\n",
    "# 使用cursor()方法获取操作游标 \n",
    "cursor = db.cursor()\n",
    "\n",
    "# 如果数据表已经存在使用 execute() 方法删除表。\n",
    "cursor.execute(\"DROP TABLE IF EXISTS EMPLOYEE\")\n",
    "\n",
    "\n",
    "# 创建数据表SQL语句\n",
    "sql = \"\"\"CREATE TABLE EMPLOYEE (\n",
    "         FIRST_NAME  CHAR(20) NOT NULL,\n",
    "         LAST_NAME  CHAR(20),\n",
    "         AGE INT,  \n",
    "         SEX CHAR(1),\n",
    "         INCOME FLOAT )\"\"\"\n",
    "\n",
    "cursor.execute(sql)\n",
    "\n",
    "# 使用cursor()方法获取操作游标 \n",
    "cursor = db.cursor()\n",
    "\n",
    "# SQL 插入语句\n",
    "sql = \"\"\"INSERT INTO EMPLOYEE(FIRST_NAME,\n",
    "         LAST_NAME, AGE, SEX, INCOME)\n",
    "         VALUES ('Mac', 'Mohan', 20, 'M', 2000)\"\"\"\n",
    "try:\n",
    "   # 执行sql语句\n",
    "   cursor.execute(sql)\n",
    "   # 提交到数据库执行\n",
    "   db.commit()\n",
    "except:\n",
    "   # Rollback in case there is any error\n",
    "   db.rollback()\n",
    "\n",
    "\n",
    "\n",
    "\n",
    "# 关闭数据库连接\n",
    "db.close()"
   ]
  },
  {
   "cell_type": "code",
   "execution_count": 18,
   "metadata": {},
   "outputs": [
    {
     "name": "stdout",
     "output_type": "stream",
     "text": [
      "fname=Mac,lname=Mohan,age=20,sex=M,income=2000\n"
     ]
    }
   ],
   "source": [
    "#查询EMPLOYEE表中salary（工资）字段大于1000的所有数据：\n",
    "#!/usr/bin/python\n",
    "# -*- coding: UTF-8 -*-\n",
    "\n",
    "import MySQLdb\n",
    "\n",
    "# 打开数据库连接\n",
    "db = MySQLdb.connect(\"localhost\", \"root\", \"\", \"TESTDB\", charset='utf8' )\n",
    "\n",
    "# 使用cursor()方法获取操作游标 \n",
    "cursor = db.cursor()\n",
    "\n",
    "# SQL 查询语句\n",
    "sql = \"SELECT * FROM EMPLOYEE \\\n",
    "       WHERE INCOME > '%d'\" % (1000)\n",
    "try:\n",
    "   # 执行SQL语句\n",
    "   cursor.execute(sql)\n",
    "   # 获取所有记录列表\n",
    "   results = cursor.fetchall()\n",
    "   for row in results:\n",
    "      fname = row[0]\n",
    "      lname = row[1]\n",
    "      age = row[2]\n",
    "      sex = row[3]\n",
    "      income = row[4]\n",
    "      # 打印结果\n",
    "      print(\"fname=%s,lname=%s,age=%d,sex=%s,income=%d\" % \\\n",
    "             (fname, lname, age, sex, income ))\n",
    "except:\n",
    "   print(\"Error: unable to fecth data\")\n",
    "\n",
    "# 关闭数据库连接\n",
    "db.close()"
   ]
  },
  {
   "cell_type": "code",
   "execution_count": 19,
   "metadata": {},
   "outputs": [],
   "source": [
    "#!/usr/bin/python\n",
    "# -*- coding: UTF-8 -*-\n",
    "#更新操作用于更新数据表的的数据，以下实例将 EMPLOYEE 表中的 SEX 字段为 'M' 的 AGE 字段递增 1：\n",
    "import MySQLdb\n",
    "\n",
    "# 打开数据库连接\n",
    "db = MySQLdb.connect(\"localhost\", \"root\", \"\", \"TESTDB\", charset='utf8' )\n",
    "\n",
    "# 使用cursor()方法获取操作游标 \n",
    "cursor = db.cursor()\n",
    "\n",
    "# SQL 更新语句\n",
    "sql = \"UPDATE EMPLOYEE SET AGE = AGE + 1 WHERE SEX = '%c'\" % ('M')\n",
    "try:\n",
    "   # 执行SQL语句\n",
    "   cursor.execute(sql)\n",
    "   # 提交到数据库执行\n",
    "   db.commit()\n",
    "except:\n",
    "   # 发生错误时回滚\n",
    "   db.rollback()\n",
    "\n",
    "# 关闭数据库连接\n",
    "db.close()"
   ]
  },
  {
   "cell_type": "code",
   "execution_count": null,
   "metadata": {},
   "outputs": [],
   "source": []
  }
 ],
 "metadata": {
  "kernelspec": {
   "display_name": "Python 3",
   "language": "python",
   "name": "python3"
  },
  "language_info": {
   "codemirror_mode": {
    "name": "ipython",
    "version": 3
   },
   "file_extension": ".py",
   "mimetype": "text/x-python",
   "name": "python",
   "nbconvert_exporter": "python",
   "pygments_lexer": "ipython3",
   "version": "3.6.5"
  }
 },
 "nbformat": 4,
 "nbformat_minor": 2
}
