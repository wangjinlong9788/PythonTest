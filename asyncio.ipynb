{
 "cells": [
  {
   "cell_type": "code",
   "execution_count": 9,
   "metadata": {},
   "outputs": [
    {
     "name": "stdout",
     "output_type": "stream",
     "text": [
      "<_WindowsSelectorEventLoop running=True closed=False debug=False>\n"
     ]
    }
   ],
   "source": [
    "import logging; logging.basicConfig(level=logging.INFO)\n",
    "\n",
    "import asyncio, os, json, time\n",
    "from datetime import datetime\n",
    "\n",
    "from aiohttp import web\n",
    "\n",
    "def index(request):\n",
    "    return web.Response(body=b'<h1>Awesome</h1>')\n",
    "\n",
    "@asyncio.coroutine\n",
    "def init(loop):\n",
    "    app = web.Application(loop=loop)\n",
    "    app.router.add_route('GET', '/', index)\n",
    "    srv = yield from loop.create_server(app.make_handler(), '127.0.0.1', 9000)\n",
    "    logging.info('server started at http://127.0.0.1:9000...')\n",
    "    return srv\n",
    "\n",
    "loop = asyncio.get_event_loop()\n",
    "#loop.run_until_complete(init(loop))\n",
    "#loop.run_forever()\n",
    "print(loop)"
   ]
  },
  {
   "cell_type": "code",
   "execution_count": 29,
   "metadata": {},
   "outputs": [
    {
     "name": "stdout",
     "output_type": "stream",
     "text": [
      "[10, 20, 20, 10, 10, 30, 50, 10, 20]\n",
      "3\n",
      "3\n",
      "d <built-in method keys of dict object at 0x0000024935B136C0>\n",
      "d <built-in method keys of dict object at 0x0000024935B136C0>\n",
      "d <built-in method keys of dict object at 0x0000024935B136C0>\n",
      "tot 3\n",
      "5\n"
     ]
    }
   ],
   "source": [
    "import math\n",
    "import os\n",
    "import random\n",
    "import re\n",
    "import sys\n",
    "import numpy as np\n",
    "# Complete the sockMerchant function below.\n",
    "def dsockMerchant(n, ar):\n",
    "    pair=0\n",
    "    point=[]\n",
    "    for i in range(n): \n",
    "      for j in range(n-i-1):\n",
    "        #print(\"ij\",i,j,i+j+1)\n",
    "        if ar[i]==ar[j+i+1]:\n",
    "            point=np.append(ponit,ar[i])\n",
    "            for item in point:\n",
    "                if item!=ar[i+j+1]:\n",
    "                  pair+=1\n",
    "    return (pair//2) \n",
    "def sockMerchant(n, ar):\n",
    "    socks=ar\n",
    "    pairs=0\n",
    "    for element in set(socks):\n",
    "        pairs += socks.count(element) // 2\n",
    "    print(pairs)\n",
    "    return (pairs)\n",
    "\n",
    "if __name__ == '__main__':\n",
    "    \n",
    "    n=9\n",
    "    ar =[10, 20, 20, 10, 10, 30, 50, 10, 20]\n",
    "    print(ar)\n",
    "\n",
    "    result = sockMerchant(n, ar)\n",
    "    print(result)\n",
    "    c=ar\n",
    "    k={}\n",
    "    tot = 0\n",
    "    d = {}\n",
    "    for i in range(n):\n",
    "      if c[i] in d:\n",
    "        d.pop(c[i])\n",
    "        print(\"d\",d.keys)\n",
    "        tot += 1\n",
    "      else:\n",
    "        d[c[i]] = 1\n",
    "    print('tot',tot)\n",
    "    k[c[7]]=5\n",
    "    print(k[c[7]])\n"
   ]
  },
  {
   "cell_type": "code",
   "execution_count": 34,
   "metadata": {},
   "outputs": [
    {
     "name": "stdout",
     "output_type": "stream",
     "text": [
      "12 UDDDUDUUDUDU\n",
      "3\n"
     ]
    }
   ],
   "source": [
    "#!/bin/python3\n",
    "\n",
    "import math\n",
    "import os\n",
    "import random\n",
    "import re\n",
    "import sys\n",
    "\n",
    "# Complete the countingValleys function below.\n",
    "def countingValleys(n, s):\n",
    "    level=0\n",
    "    v=0\n",
    "    for i in range(len(s)):\n",
    "        if s[i]==\"U\":\n",
    "            level=level+1\n",
    "    \n",
    "        if s[i]==\"D\":\n",
    "            level=level-1\n",
    "        if (level==0)&(s[i]==\"U\"):\n",
    "            v=v+1\n",
    "    return v\n",
    "if __name__ == '__main__':\n",
    "    s =\"UDDDUDUUDUDU\"\n",
    "    n=len(s)\n",
    "    print(n,s)\n",
    "    result = countingValleys(n, s)\n",
    "    print(result) \n",
    "    #fptr.write(str(result) + '\\n')\n",
    "\n",
    "   "
   ]
  },
  {
   "cell_type": "code",
   "execution_count": 58,
   "metadata": {},
   "outputs": [
    {
     "name": "stdout",
     "output_type": "stream",
     "text": [
      "result: 7\n"
     ]
    }
   ],
   "source": [
    "import math\n",
    "import os\n",
    "import random\n",
    "import re\n",
    "import sys\n",
    "\n",
    "# Complete the jumpingOnClouds function below.\n",
    "def jumpingOnClouds(c):\n",
    "    i=0\n",
    "    step=0\n",
    "    while i < n:\n",
    "      if i < n-2 and c[i+2] == 0:\n",
    "        i += 1\n",
    "      step += 1\n",
    "      i += 1\n",
    "        \n",
    "    return (step-1)\n",
    "\n",
    "if __name__ == '__main__':\n",
    "   # fptr = open(os.environ['OUTPUT_PATH'], 'w')\n",
    "\n",
    "    n = 13\n",
    "\n",
    "    c = [0, 0, 1, 0, 0, 1, 0,0,0,0,0,1,0]\n",
    "    #print(len(c))\n",
    "\n",
    "    result = jumpingOnClouds(c)\n",
    "    print(\"result:\",result)\n",
    "\n",
    "    #fptr.write(str(result) + '\\n')\n",
    "\n",
    "    #fptr.close()"
   ]
  },
  {
   "cell_type": "code",
   "execution_count": 51,
   "metadata": {},
   "outputs": [
    {
     "name": "stdout",
     "output_type": "stream",
     "text": [
      "1\n",
      "28\n",
      "3\n",
      "4\n",
      "5\n"
     ]
    }
   ],
   "source": [
    "import math\n",
    "import os\n",
    "import random\n",
    "import re\n",
    "import sys\n",
    "# 首先获得Iterator对象:\n",
    "c=[1, 28, 3, 4, 5]\n",
    "it = iter(c)\n",
    "while True:\n",
    "    try:\n",
    "        # 获得下一个值:\n",
    "        x = next(it)\n",
    "        print(x)\n",
    "    except StopIteration:\n",
    "        # 遇到StopIteration就退出循环\n",
    "        break\n"
   ]
  },
  {
   "cell_type": "code",
   "execution_count": 33,
   "metadata": {},
   "outputs": [
    {
     "name": "stdout",
     "output_type": "stream",
     "text": [
      "{'b': 1, 'd': 1, 'e': 2, 'f': 1, 'h': 1}\n",
      "e\n",
      "collections.Counter(t) Counter({'e': 2, 'b': 1, 'd': 1, 'f': 1, 'h': 1})\n",
      "collections.Counter(s) Counter({'b': 3, 'a': 1, 'c': 1, 'd': 1, 'e': 1, 'f': 1, 'k': 1})\n",
      "list((collections.Counter(t) - collections.Counter(s)) ['e', 'h']\n"
     ]
    }
   ],
   "source": [
    "import math\n",
    "import os\n",
    "import random\n",
    "import re\n",
    "import sys\n",
    "from functools import reduce\n",
    "import collections  \n",
    "\n",
    "\n",
    "\n",
    "# 投票可以使用散列表\n",
    "class Solution(object):\n",
    "    def findTheDifference(self, s, t):\n",
    "        \"\"\"\n",
    "        :type s: str\n",
    "        :type t: str\n",
    "        :rtype: str\n",
    "        \"\"\"\n",
    "        dic = dict()\n",
    "        for single in s:\n",
    "            dic[single] = dic.get(single, 0) + 1\n",
    "        for single in t:\n",
    "            if single in dic:\n",
    "                dic[single] = dic[single] - 1\n",
    "                if dic[single] == 0:\n",
    "                    del dic[single]\n",
    "            else:\n",
    "                return single\n",
    "        return chr(reduce(operator.xor, map(ord, (s + t))))\n",
    "\n",
    "s=\"abbbcdefk\"\n",
    "t=\"bdeefh\"\n",
    "class Solution1(object):\n",
    "    def findTheDifference(self, s, t):\n",
    "        return list((collections.Counter(t) - collections.Counter(s)))[0]\n",
    "dic = dict()\n",
    "for single in t:\n",
    "    dic[single] = dic.get(single, 0) + 1\n",
    "print(dic)\n",
    "a=Solution1()\n",
    "#result=chr(reduce(operator.xor, map(ord, (s + t))))\n",
    "#用传给 reduce 中的函数 function（有两个参数）先对集合中的第 1、2 个元素进行操作，\n",
    "#得到的结果再与第三个数据用 function 函数运算，最后得到一个结果\n",
    "result=a.findTheDifference(s, t)\n",
    "print(result)\n",
    "print(\"collections.Counter(t)\",collections.Counter(t))\n",
    "print(\"collections.Counter(s)\",collections.Counter(s))\n",
    "print(\"list((collections.Counter(t) - collections.Counter(s))\", list((collections.Counter(t) - collections.Counter(s))))"
   ]
  },
  {
   "cell_type": "code",
   "execution_count": null,
   "metadata": {},
   "outputs": [],
   "source": []
  }
 ],
 "metadata": {
  "kernelspec": {
   "display_name": "Python 3",
   "language": "python",
   "name": "python3"
  },
  "language_info": {
   "codemirror_mode": {
    "name": "ipython",
    "version": 3
   },
   "file_extension": ".py",
   "mimetype": "text/x-python",
   "name": "python",
   "nbconvert_exporter": "python",
   "pygments_lexer": "ipython3",
   "version": "3.6.5"
  }
 },
 "nbformat": 4,
 "nbformat_minor": 2
}
