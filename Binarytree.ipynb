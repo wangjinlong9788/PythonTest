{
 "cells": [
  {
   "cell_type": "code",
   "execution_count": 5,
   "metadata": {},
   "outputs": [
    {
     "name": "stdout",
     "output_type": "stream",
     "text": [
      "<__main__.BinarySearchTree object at 0x0000022F7C2FB4A8>\n",
      "1\n",
      "2\n",
      "4\n",
      "7\n",
      "5\n"
     ]
    }
   ],
   "source": [
    "class Node:\n",
    "                        \n",
    "    \"\"\"\n",
    "    Node is defined as\n",
    "    self.left (the left child of the node)\n",
    "    self.right (the right child of the node)\n",
    "    self.info (the value of the node)\n",
    "    \"\"\"\n",
    "    def __init__(self, info): \n",
    "        self.info = info  \n",
    "        self.left = None  \n",
    "        self.right = None \n",
    "        self.level = None \n",
    "\n",
    "    def __str__(self):\n",
    "        return str(self.info) \n",
    "\n",
    "class BinarySearchTree:\n",
    "    def __init__(self): \n",
    "        self.root = None\n",
    "\n",
    "    def create(self, val):  \n",
    "        if self.root == None:\n",
    "            self.root = Node(val)\n",
    "        else:\n",
    "            current = self.root\n",
    "         \n",
    "            while True:\n",
    "                if val < current.info:\n",
    "                    if current.left:\n",
    "                        current = current.left\n",
    "                    else:\n",
    "                        current.left = Node(val)\n",
    "                        break\n",
    "                elif val > current.info:\n",
    "                    if current.right:\n",
    "                        current = current.right\n",
    "                    else:\n",
    "                        current.right = Node(val)\n",
    "                        break\n",
    "                else:\n",
    "                    break\n",
    "tree = BinarySearchTree()\n",
    "t = 5#number of binary tree nodes #int(input())\n",
    "\n",
    "arr = [1,2,4,7,5,6]#nodes #list(map(int, input().split()))\n",
    "\n",
    "for i in range(t):\n",
    "    tree.create(arr[i])\n",
    "\n",
    "\n",
    "#def preOrder(root):\n",
    "    #Write your code here\n",
    "#    pass\n",
    "def preOrder(root):\n",
    "    if root:\n",
    "        print(root.info)\n",
    "        if root.left:\n",
    "            preOrder(root.left)\n",
    "        if root.right:\n",
    "            preOrder(root.right)\n",
    "print(tree)\n",
    "preOrder(tree.root)"
   ]
  },
  {
   "cell_type": "code",
   "execution_count": null,
   "metadata": {},
   "outputs": [],
   "source": []
  }
 ],
 "metadata": {
  "kernelspec": {
   "display_name": "Python 3",
   "language": "python",
   "name": "python3"
  },
  "language_info": {
   "codemirror_mode": {
    "name": "ipython",
    "version": 3
   },
   "file_extension": ".py",
   "mimetype": "text/x-python",
   "name": "python",
   "nbconvert_exporter": "python",
   "pygments_lexer": "ipython3",
   "version": "3.6.5"
  }
 },
 "nbformat": 4,
 "nbformat_minor": 2
}
