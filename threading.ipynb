{
 "cells": [
  {
   "cell_type": "code",
   "execution_count": null,
   "metadata": {},
   "outputs": [],
   "source": [
    "import threading\n",
    "import time\n",
    "import Queue\n",
    "def consume(q):\n",
    "    while(True):\n",
    "        name = threading.currentThread().getName()\n",
    "        print \"Thread: {0} start get item from queue[current size = {1}] at time = {2} \\n\".format(name, q.qsize(), time.strftime('%H:%M:%S'))\n",
    "        item = q.get();\n",
    "        time.sleep(3)  # spend 3 seconds to process or consume the tiem\n",
    "        print \"Thread: {0} finish process item from queue[current size = {1}] at time = {2} \\n\".format(name, q.qsize(), time.strftime('%H:%M:%S'))\n",
    "        q.task_done()\n",
    " \n",
    " \n",
    "def producer(q):\n",
    "    # the main thread will put new items to the queue\n",
    " \n",
    "    for i in range(10):\n",
    "        name = threading.currentThread().getName()\n",
    "        print \"Thread: {0} start put item into queue[current size = {1}] at time = {2} \\n\".format(name, q.qsize(), time.strftime('%H:%M:%S'))\n",
    "        item = \"item-\" + str(i)\n",
    "        q.put(item)\n",
    "        print \"Thread: {0} successfully put item into queue[current size = {1}] at time = {2} \\n\".format(name, q.qsize(), time.strftime('%H:%M:%S'))\n",
    " \n",
    "    q.join()\n",
    " \n",
    "if __name__ == '__main__':\n",
    "    q = Queue.Queue(maxs ize = 3)\n",
    " \n",
    "    threads_num = 3  # three threads to consume\n",
    "    for i in range(threads_num):\n",
    "        t = threading.Thread(name = \"ConsumerThread-\"+str(i), target=consume, args=(q,))\n",
    "        t.start()\n",
    " \n",
    "    #1 thread to procuce\n",
    "    t = threading.Thread(name = \"ProducerThread\", target=producer, args=(q,))\n",
    "    t.start()\n",
    " \n",
    "    q.join()"
   ]
  }
 ],
 "metadata": {
  "kernelspec": {
   "display_name": "Python 3",
   "language": "python",
   "name": "python3"
  },
  "language_info": {
   "codemirror_mode": {
    "name": "ipython",
    "version": 3
   },
   "file_extension": ".py",
   "mimetype": "text/x-python",
   "name": "python",
   "nbconvert_exporter": "python",
   "pygments_lexer": "ipython3",
   "version": "3.6.5"
  }
 },
 "nbformat": 4,
 "nbformat_minor": 2
}
